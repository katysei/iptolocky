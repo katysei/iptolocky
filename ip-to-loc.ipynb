{
 "cells": [
  {
   "cell_type": "code",
   "execution_count": 2,
   "metadata": {},
   "outputs": [
    {
     "data": {
      "text/plain": [
       ":get_loc"
      ]
     },
     "execution_count": 2,
     "metadata": {},
     "output_type": "execute_result"
    }
   ],
   "source": [
    "require 'ip2location_ruby'\n",
    "\n",
    "\n",
    "class IpToLoc\n",
    "  def initialize(ip_to_loc_filename = '~/iptolocy/rb/IP2LOCATION-LITE-DB1.BIN')\n",
    "    @i2l = Ip2location.new.open(ip_to_loc_filename)\n",
    "  end\n",
    "\n",
    "  def get_loc ip\n",
    "    loc = @i2l.get_all(ip)\n",
    "  end\n",
    "\n",
    "end\n",
    "\n",
    "  "
   ]
  },
  {
   "cell_type": "code",
   "execution_count": 3,
   "metadata": {},
   "outputs": [
    {
     "data": {
      "text/plain": [
       "#<IpToLoc:0x00007fadd6296770 @i2l=#<Ip2location:0x00007fadd6296720 @file=#<File:/Users/josephkeshet/iptolocy/rb/IP2LOCATION-LITE-DB1.BIN>, @db_index=1, @columns=2, @database=[[:country, 2]], @ipv4databasecount=182961, @ipv4databaseaddr=524353, @ipv6databasecount=0, @ipv6databaseaddr=1, @ipv4indexbaseaddr=65, @ipv6indexbaseaddr=1, @record_class4=#<Class:0x00007fadd74caf18>, @record_class6=#<Class:0x00007fadd74c8538>>>"
      ]
     },
     "execution_count": 3,
     "metadata": {},
     "output_type": "execute_result"
    }
   ],
   "source": [
    "#hack for ruby notebook\n",
    "ip_to_loc = IpToLoc.new"
   ]
  },
  {
   "cell_type": "code",
   "execution_count": 7,
   "metadata": {},
   "outputs": [
    {
     "name": "stdout",
     "output_type": "stream",
     "text": [
      "{\"country_short\"=>\"IL\", \"country_long\"=>\"Israel\", \"region\"=>\"NOT SUPPORTED\", \"city\"=>\"NOT SUPPORTED\", \"latitude\"=>\"NOT SUPPORTED\", \"longitude\"=>\"NOT SUPPORTED\", \"isp\"=>\"NOT SUPPORTED\", \"domain\"=>\"NOT SUPPORTED\", \"netspeed\"=>\"NOT SUPPORTED\", \"areacode\"=>\"NOT SUPPORTED\", \"iddcode\"=>\"NOT SUPPORTED\", \"timezone\"=>\"NOT SUPPORTED\", \"zipcode\"=>\"NOT SUPPORTED\", \"weatherstationname\"=>\"NOT SUPPORTED\", \"weatherstationcode\"=>\"NOT SUPPORTED\", \"mcc\"=>\"NOT SUPPORTED\", \"mnc\"=>\"NOT SUPPORTED\", \"mobilebrand\"=>\"NOT SUPPORTED\", \"elevation\"=>\"NOT SUPPORTED\", \"usagetype\"=>\"NOT SUPPORTED\"}\n",
      "Country Code: IL\n",
      "Country Name: Israel\n"
     ]
    }
   ],
   "source": [
    "loc = ip_to_loc.get_loc '37.142.3.28'\n",
    "puts loc\n",
    "\n",
    "puts  'Country Code: ' + loc[\"country_short\"]\n",
    "puts  'Country Name: ' + loc[\"country_long\"]"
   ]
  },
  {
   "cell_type": "code",
   "execution_count": 15,
   "metadata": {},
   "outputs": [
    {
     "name": "stdout",
     "output_type": "stream",
     "text": [
      "#<Class:0x00007fdbdc374a50>\n"
     ]
    }
   ],
   "source": [
    "puts loc.class"
   ]
  },
  {
   "cell_type": "code",
   "execution_count": null,
   "metadata": {},
   "outputs": [],
   "source": []
  }
 ],
 "metadata": {
  "kernelspec": {
   "display_name": "Ruby 2.5.1",
   "language": "ruby",
   "name": "ruby"
  },
  "language_info": {
   "file_extension": ".rb",
   "mimetype": "application/x-ruby",
   "name": "ruby",
   "version": "2.5.1"
  },
  "varInspector": {
   "cols": {
    "lenName": 16,
    "lenType": 16,
    "lenVar": 40
   },
   "kernels_config": {
    "python": {
     "delete_cmd_postfix": "",
     "delete_cmd_prefix": "del ",
     "library": "var_list.py",
     "varRefreshCmd": "print(var_dic_list())"
    },
    "r": {
     "delete_cmd_postfix": ") ",
     "delete_cmd_prefix": "rm(",
     "library": "var_list.r",
     "varRefreshCmd": "cat(var_dic_list()) "
    }
   },
   "types_to_exclude": [
    "module",
    "function",
    "builtin_function_or_method",
    "instance",
    "_Feature"
   ],
   "window_display": false
  }
 },
 "nbformat": 4,
 "nbformat_minor": 1
}
