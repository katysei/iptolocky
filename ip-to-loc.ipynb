{
 "cells": [
  {
   "cell_type": "code",
   "execution_count": 6,
   "metadata": {},
   "outputs": [
    {
     "name": "stdout",
     "output_type": "stream",
     "text": [
      "Country Code: IL\n",
      "Country Name: Israel\n",
      "Country Code: IL\n",
      "Country Name: Israel\n"
     ]
    }
   ],
   "source": [
    "require 'ip2location_ruby'\n",
    "\n",
    "\n",
    "print 'Country Code: ' + record.country_short + \"\\n\"\n",
    "print 'Country Name: ' + record.country_long + \"\\n\"\n",
    "\n",
    "record = i2l.get_all('37.142.3.28')\n",
    "\n",
    "print 'Country Code: ' + record.country_short + \"\\n\"\n",
    "print 'Country Name: ' + record.country_long + \"\\n\""
   ]
  },
  {
   "cell_type": "code",
   "execution_count": 4,
   "metadata": {},
   "outputs": [
    {
     "data": {
      "text/plain": [
       ":get_loc"
      ]
     },
     "execution_count": 4,
     "metadata": {},
     "output_type": "execute_result"
    }
   ],
   "source": [
    "require 'ip2location_ruby'\n",
    "\n",
    "\n",
    "class IpToLoc\n",
    "  def initialize(ip_to_loc_filename = '~/IP2LOCATION-LITE-DB1.BIN')\n",
    "    @i2l = Ip2location.new.open(ip_to_loc_filename)\n",
    "  end\n",
    "\n",
    "  def get_loc ip\n",
    "    loc = @i2l.get_all(ip)\n",
    "  end\n",
    "\n",
    "end\n",
    "\n",
    "  "
   ]
  },
  {
   "cell_type": "code",
   "execution_count": 9,
   "metadata": {},
   "outputs": [
    {
     "data": {
      "text/plain": [
       "#<IpToLoc:0x00007fda05b48110 @i2l=#<Ip2location:0x00007fda05b480e8 @file=#<File:/Users/josephkeshet/iptolocky/IP2LOCATION-LITE-DB1.BIN>, @db_index=1, @columns=2, @database=[[:country, 2]], @ipv4databasecount=182961, @ipv4databaseaddr=524353, @ipv6databasecount=0, @ipv6databaseaddr=1, @ipv4indexbaseaddr=65, @ipv6indexbaseaddr=1, @record_class4=#<Class:0x00007fda0520cfd8>, @record_class6=#<Class:0x00007fda05206520>>>"
      ]
     },
     "execution_count": 9,
     "metadata": {},
     "output_type": "execute_result"
    }
   ],
   "source": [
    "#hack for ruby notebook\n",
    "ip_to_loc = IpToLoc.new '../IP2LOCATION-LITE-DB1.BIN'"
   ]
  },
  {
   "cell_type": "code",
   "execution_count": 10,
   "metadata": {},
   "outputs": [
    {
     "name": "stdout",
     "output_type": "stream",
     "text": [
      "Country Code: IL\n",
      "\n",
      "Country Name: Israel\n"
     ]
    }
   ],
   "source": [
    "loc = ip_to_loc.get_loc '37.142.3.28'\n",
    "\n",
    "puts  'Country Code: ' + loc.country_short + \"\\n\"\n",
    "print 'Country Name: ' + loc.country_long + \"\\n\""
   ]
  },
  {
   "cell_type": "code",
   "execution_count": null,
   "metadata": {},
   "outputs": [],
   "source": []
  }
 ],
 "metadata": {
  "kernelspec": {
   "display_name": "Ruby 2.5.1",
   "language": "ruby",
   "name": "ruby"
  },
  "language_info": {
   "file_extension": ".rb",
   "mimetype": "application/x-ruby",
   "name": "ruby",
   "version": "2.5.1"
  },
  "varInspector": {
   "cols": {
    "lenName": 16,
    "lenType": 16,
    "lenVar": 40
   },
   "kernels_config": {
    "python": {
     "delete_cmd_postfix": "",
     "delete_cmd_prefix": "del ",
     "library": "var_list.py",
     "varRefreshCmd": "print(var_dic_list())"
    },
    "r": {
     "delete_cmd_postfix": ") ",
     "delete_cmd_prefix": "rm(",
     "library": "var_list.r",
     "varRefreshCmd": "cat(var_dic_list()) "
    }
   },
   "types_to_exclude": [
    "module",
    "function",
    "builtin_function_or_method",
    "instance",
    "_Feature"
   ],
   "window_display": false
  }
 },
 "nbformat": 4,
 "nbformat_minor": 1
}
