{
 "cells": [
  {
   "cell_type": "code",
   "execution_count": 2,
   "metadata": {},
   "outputs": [
    {
     "ename": "NoMethodError",
     "evalue": "undefined method `country_short' for nil:NilClass",
     "output_type": "error",
     "traceback": [
      "\u001b[31mNoMethodError\u001b[0m: undefined method `country_short' for nil:NilClass",
      "\u001b[37m<main>:3:in `<main>'\u001b[0m",
      "\u001b[37m/Users/josephkeshet/.rvm/gems/ruby-2.5.1/gems/iruby-0.3/lib/iruby/backend.rb:44:in `eval'\u001b[0m",
      "\u001b[37m/Users/josephkeshet/.rvm/gems/ruby-2.5.1/gems/iruby-0.3/lib/iruby/backend.rb:44:in `eval'\u001b[0m",
      "\u001b[37m/Users/josephkeshet/.rvm/gems/ruby-2.5.1/gems/iruby-0.3/lib/iruby/backend.rb:12:in `eval'\u001b[0m",
      "\u001b[37m/Users/josephkeshet/.rvm/gems/ruby-2.5.1/gems/iruby-0.3/lib/iruby/kernel.rb:87:in `execute_request'\u001b[0m",
      "\u001b[37m/Users/josephkeshet/.rvm/gems/ruby-2.5.1/gems/iruby-0.3/lib/iruby/kernel.rb:47:in `dispatch'\u001b[0m",
      "\u001b[37m/Users/josephkeshet/.rvm/gems/ruby-2.5.1/gems/iruby-0.3/lib/iruby/kernel.rb:37:in `run'\u001b[0m",
      "\u001b[37m/Users/josephkeshet/.rvm/gems/ruby-2.5.1/gems/iruby-0.3/lib/iruby/command.rb:70:in `run_kernel'\u001b[0m",
      "\u001b[37m/Users/josephkeshet/.rvm/gems/ruby-2.5.1/gems/iruby-0.3/lib/iruby/command.rb:34:in `run'\u001b[0m",
      "\u001b[37m/Users/josephkeshet/.rvm/gems/ruby-2.5.1/gems/iruby-0.3/bin/iruby:5:in `<top (required)>'\u001b[0m",
      "\u001b[37m/Users/josephkeshet/.rvm/gems/ruby-2.5.1/bin/iruby:23:in `load'\u001b[0m",
      "\u001b[37m/Users/josephkeshet/.rvm/gems/ruby-2.5.1/bin/iruby:23:in `<main>'\u001b[0m",
      "\u001b[37m/Users/josephkeshet/.rvm/gems/ruby-2.5.1/bin/ruby_executable_hooks:24:in `eval'\u001b[0m",
      "\u001b[37m/Users/josephkeshet/.rvm/gems/ruby-2.5.1/bin/ruby_executable_hooks:24:in `<main>'\u001b[0m"
     ]
    }
   ],
   "source": [
    "require 'ip2location_ruby'\n",
    "\n",
    "\n",
    "print 'Country Code: ' + record.country_short + \"\\n\"\n",
    "print 'Country Name: ' + record.country_long + \"\\n\"\n",
    "\n",
    "record = i2l.get_all('37.142.3.28')\n",
    "\n",
    "print 'Country Code: ' + record.country_short + \"\\n\"\n",
    "print 'Country Name: ' + record.country_long + \"\\n\""
   ]
  },
  {
   "cell_type": "code",
   "execution_count": 12,
   "metadata": {},
   "outputs": [
    {
     "data": {
      "text/plain": [
       ":get_loc"
      ]
     },
     "execution_count": 12,
     "metadata": {},
     "output_type": "execute_result"
    }
   ],
   "source": [
    "require 'ip2location_ruby'\n",
    "\n",
    "\n",
    "class IpToLoc\n",
    "  def initialize(ip_to_loc_filename = '~/iptolocy/rb/IP2LOCATION-LITE-DB1.BIN')\n",
    "    @i2l = Ip2location.new.open(ip_to_loc_filename)\n",
    "  end\n",
    "\n",
    "  def get_loc ip\n",
    "    loc = @i2l.get_all(ip)\n",
    "  end\n",
    "\n",
    "end\n",
    "\n",
    "  "
   ]
  },
  {
   "cell_type": "code",
   "execution_count": 13,
   "metadata": {},
   "outputs": [
    {
     "data": {
      "text/plain": [
       "#<IpToLoc:0x00007fdbdcabf580 @i2l=#<Ip2location:0x00007fdbdcabf530 @file=#<File:/Users/josephkeshet/iptolocy/rb/IP2LOCATION-LITE-DB1.BIN>, @db_index=1, @columns=2, @database=[[:country, 2]], @ipv4databasecount=182961, @ipv4databaseaddr=524353, @ipv6databasecount=0, @ipv6databaseaddr=1, @ipv4indexbaseaddr=65, @ipv6indexbaseaddr=1, @record_class4=#<Class:0x00007fdbdc374a50>, @record_class6=#<Class:0x00007fdbdc36d6d8>>>"
      ]
     },
     "execution_count": 13,
     "metadata": {},
     "output_type": "execute_result"
    }
   ],
   "source": [
    "#hack for ruby notebook\n",
    "ip_to_loc = IpToLoc.new"
   ]
  },
  {
   "cell_type": "code",
   "execution_count": 14,
   "metadata": {},
   "outputs": [
    {
     "name": "stdout",
     "output_type": "stream",
     "text": [
      "Country Code: IL\n",
      "\n",
      "Country Name: Israel\n"
     ]
    }
   ],
   "source": [
    "loc = ip_to_loc.get_loc '37.142.3.28'\n",
    "\n",
    "puts  'Country Code: ' + loc.country_short + \"\\n\"\n",
    "print 'Country Name: ' + loc.country_long + \"\\n\""
   ]
  },
  {
   "cell_type": "code",
   "execution_count": 15,
   "metadata": {},
   "outputs": [
    {
     "name": "stdout",
     "output_type": "stream",
     "text": [
      "#<Class:0x00007fdbdc374a50>\n"
     ]
    }
   ],
   "source": [
    "puts loc.class"
   ]
  },
  {
   "cell_type": "code",
   "execution_count": 16,
   "metadata": {},
   "outputs": [
    {
     "data": {
      "text/plain": [
       "\"\\\"{:ip_from=>630063104, :country_short=>\\\\\\\"IL\\\\\\\", :country_long=>\\\\\\\"Israel\\\\\\\", :ip_to=>630128640}\\\"\""
      ]
     },
     "execution_count": 16,
     "metadata": {},
     "output_type": "execute_result"
    }
   ],
   "source": [
    "loc.to_json"
   ]
  },
  {
   "cell_type": "code",
   "execution_count": null,
   "metadata": {},
   "outputs": [],
   "source": []
  }
 ],
 "metadata": {
  "kernelspec": {
   "display_name": "Ruby 2.5.1",
   "language": "ruby",
   "name": "ruby"
  },
  "language_info": {
   "file_extension": ".rb",
   "mimetype": "application/x-ruby",
   "name": "ruby",
   "version": "2.5.1"
  },
  "varInspector": {
   "cols": {
    "lenName": 16,
    "lenType": 16,
    "lenVar": 40
   },
   "kernels_config": {
    "python": {
     "delete_cmd_postfix": "",
     "delete_cmd_prefix": "del ",
     "library": "var_list.py",
     "varRefreshCmd": "print(var_dic_list())"
    },
    "r": {
     "delete_cmd_postfix": ") ",
     "delete_cmd_prefix": "rm(",
     "library": "var_list.r",
     "varRefreshCmd": "cat(var_dic_list()) "
    }
   },
   "types_to_exclude": [
    "module",
    "function",
    "builtin_function_or_method",
    "instance",
    "_Feature"
   ],
   "window_display": false
  }
 },
 "nbformat": 4,
 "nbformat_minor": 1
}
